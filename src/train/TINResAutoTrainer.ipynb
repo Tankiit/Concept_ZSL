{
 "cells": [
  {
   "cell_type": "code",
   "execution_count": 1,
   "id": "f505f1ae-1d3a-4bfa-ab4c-c4e3ad45f16d",
   "metadata": {
    "execution": {
     "iopub.execute_input": "2023-10-09T09:49:59.810369Z",
     "iopub.status.busy": "2023-10-09T09:49:59.809708Z",
     "iopub.status.idle": "2023-10-09T10:03:02.650890Z",
     "shell.execute_reply": "2023-10-09T10:03:02.650090Z",
     "shell.execute_reply.started": "2023-10-09T09:49:59.810338Z"
    }
   },
   "outputs": [
    {
     "name": "stderr",
     "output_type": "stream",
     "text": [
      "Preloading val data...: 100%|██████████| 10000/10000 [01:09<00:00, 143.00it/s]\n",
      "Preloading train data...: 100%|██████████| 100000/100000 [11:47<00:00, 141.37it/s]\n"
     ]
    }
   ],
   "source": [
    "from TinyImageNetLoader import TinyImageNetDataset\n",
    "import torchvision.transforms as transforms\n",
    "import torch\n",
    "\n",
    "normalize = transforms.Normalize(mean=[0.485, 0.456, 0.406], std=[0.229, 0.224, 0.225])\n",
    "\n",
    "val_transform = transforms.Compose([\n",
    "    transforms.ToTensor(),\n",
    "    normalize\n",
    "])\n",
    "\n",
    "valset = TinyImageNetDataset(\"/datasets/tiny-imagenet-200\", mode=\"val\", transform=val_transform)\n",
    "#print(next(enumerate(validation_loader)))\n",
    "\n",
    "train_transform =  transforms.Compose([\n",
    "    transforms.ToTensor(),\n",
    "    transforms.RandomRotation(20),\n",
    "    transforms.RandomHorizontalFlip(0.5),\n",
    "    normalize\n",
    "])\n",
    "\n",
    "trainset = TinyImageNetDataset(\"/datasets/tiny-imagenet-200\", transform=train_transform)"
   ]
  },
  {
   "cell_type": "code",
   "execution_count": 2,
   "id": "3b35ba9e-4cfc-44f1-81e3-e3d6989dee3b",
   "metadata": {
    "execution": {
     "iopub.execute_input": "2023-10-09T10:03:06.913004Z",
     "iopub.status.busy": "2023-10-09T10:03:06.912667Z",
     "iopub.status.idle": "2023-10-09T10:03:06.916725Z",
     "shell.execute_reply": "2023-10-09T10:03:06.916085Z",
     "shell.execute_reply.started": "2023-10-09T10:03:06.912981Z"
    }
   },
   "outputs": [],
   "source": [
    "validation_loader = torch.utils.data.DataLoader(\n",
    "        valset, batch_size=256, shuffle=False, num_workers=4)\n",
    "training_loader = torch.utils.data.DataLoader(\n",
    "        trainset, batch_size=256, shuffle=True, num_workers=4)"
   ]
  },
  {
   "cell_type": "code",
   "execution_count": 7,
   "id": "6c25e694-a6cd-4f61-b939-596672d57ce1",
   "metadata": {
    "execution": {
     "iopub.execute_input": "2023-10-07T21:20:37.307164Z",
     "iopub.status.busy": "2023-10-07T21:20:37.306242Z",
     "iopub.status.idle": "2023-10-07T21:20:37.313768Z",
     "shell.execute_reply": "2023-10-07T21:20:37.313307Z",
     "shell.execute_reply.started": "2023-10-07T21:20:37.307162Z"
    }
   },
   "outputs": [],
   "source": [
    "import torch.nn as nn\n",
    "eps=1e-10\n",
    "def ratio_loss_fn(out, labels, predicate_matrix):\n",
    "    out = out.view(-1, 1, NUM_FEATURES) # out is a batch of 1D binary vectors\n",
    "    ANDed = out * predicate_matrix # AND operation\n",
    "    diff = ANDed - out # Difference of ANDed and out => if equal, then out is a subset of its class' predicates\n",
    "\n",
    "    entr_loss = torch.nn.CrossEntropyLoss()\n",
    "    loss_cl = entr_loss(diff.sum(dim=2), labels) # Is \"out\" a subset of its class' predicates?\n",
    "\n",
    "    batch_size = out.shape[0]\n",
    "\n",
    "    out = out.view(-1, NUM_FEATURES)\n",
    "    diff_square = (out - predicate_matrix[labels]).pow(2)\n",
    "    \n",
    "    false_positives = (out - predicate_matrix[labels] + diff_square).sum() / batch_size\n",
    "    false_positives *= loss_cl.item() / (false_positives.item() + eps)\n",
    "\n",
    "    missing_attr = (predicate_matrix[labels] - out + diff_square).sum() / batch_size\n",
    "    missing_attr *= loss_cl.item() / (missing_attr.item() + eps)\n",
    "    \n",
    "    return loss_cl + false_positives/(missing_attr+eps) * FT_WEIGHT\n",
    "\n",
    "def loss_fn(out, labels, predicate_matrix):\n",
    "    out = out.view(-1, 1, NUM_FEATURES) # out is a batch of 1D binary vectors\n",
    "    ANDed = out * predicate_matrix # AND operation\n",
    "    diff = ANDed - out # Difference of ANDed and out => if equal, then out is a subset of its class' predicates\n",
    "\n",
    "    entr_loss = torch.nn.CrossEntropyLoss()\n",
    "    loss_cl = entr_loss(diff.sum(dim=2), labels) # Is \"out\" a subset of its class' predicates?\n",
    "\n",
    "    batch_size = out.shape[0]\n",
    "\n",
    "    out = out.view(-1, NUM_FEATURES)\n",
    "    diff_square = (out - predicate_matrix[labels]).pow(2)\n",
    "    \n",
    "    false_positives = (out - predicate_matrix[labels] + diff_square).sum() / batch_size\n",
    "    missing_attr = (predicate_matrix[labels] - out + diff_square).sum() / batch_size\n",
    "    \n",
    "    loss_ft = false_positives + missing_attr\n",
    "    loss_ft *= loss_cl.item()/(loss_ft.item() + eps)\n",
    "    \n",
    "    return loss_cl + loss_ft * FT_WEIGHT"
   ]
  },
  {
   "cell_type": "code",
   "execution_count": 9,
   "id": "658cfa75-b121-418d-8bda-32a9a22c3d6f",
   "metadata": {
    "execution": {
     "iopub.execute_input": "2023-10-07T21:21:28.655486Z",
     "iopub.status.busy": "2023-10-07T21:21:28.655224Z",
     "iopub.status.idle": "2023-10-07T21:21:28.668614Z",
     "shell.execute_reply": "2023-10-07T21:21:28.667935Z",
     "shell.execute_reply.started": "2023-10-07T21:21:28.655466Z"
    }
   },
   "outputs": [],
   "source": [
    "def train_one_epoch():\n",
    "    running_loss = 0.\n",
    "\n",
    "    # Here, we use enumerate(training_loader) instead of\n",
    "    # iter(training_loader) so that we can track the batch\n",
    "    # index and do some intra-epoch reporting\n",
    "    for i, data in enumerate(training_loader):\n",
    "        # Every data instance is an input + label pair\n",
    "        inputs, labels = data[\"images\"], data[\"labels\"]\n",
    "        inputs = inputs.to(device)\n",
    "        labels = labels.to(device)\n",
    "\n",
    "        # Zero your gradients for every batch!\n",
    "        optimizer.zero_grad()\n",
    "\n",
    "        # Make predictions for this batch\n",
    "        outputs, commit_loss, predicate_matrix = model(inputs)\n",
    "\n",
    "        # Compute the loss and its gradients\n",
    "        loss = loss_fn(outputs, labels, predicate_matrix) + commit_loss\n",
    "        loss.backward()\n",
    "\n",
    "        # Adjust learning weights\n",
    "        optimizer.step()\n",
    "        \n",
    "        scheduler.step()\n",
    "\n",
    "        # Gather data and report\n",
    "        running_loss += loss.item()\n",
    "\n",
    "    return running_loss / (i+1)"
   ]
  },
  {
   "cell_type": "code",
   "execution_count": 11,
   "id": "eb8256b1-2c31-4f7a-9df7-ed0a32e2c89e",
   "metadata": {
    "execution": {
     "iopub.execute_input": "2023-10-07T21:41:52.607619Z",
     "iopub.status.busy": "2023-10-07T21:41:52.607307Z",
     "iopub.status.idle": "2023-10-07T21:55:06.565154Z",
     "shell.execute_reply": "2023-10-07T21:55:06.564016Z",
     "shell.execute_reply.started": "2023-10-07T21:41:52.607595Z"
    }
   },
   "outputs": [
    {
     "name": "stdout",
     "output_type": "stream",
     "text": [
      "/notebooks/Concept_ZSL/src/models\n",
      "Device: cuda\n"
     ]
    },
    {
     "name": "stderr",
     "output_type": "stream",
     "text": [
      "  2%|▏         | 1/50 [00:15<12:31, 15.33s/it]"
     ]
    },
    {
     "name": "stdout",
     "output_type": "stream",
     "text": [
      "LOSS: 8.444142484664917, ACC: 0.02158203162252903, FP: 4.129101753234863, MA: 12.23496150970459, OA: 6.562597751617432\n"
     ]
    },
    {
     "name": "stderr",
     "output_type": "stream",
     "text": [
      "  4%|▍         | 2/50 [00:31<12:30, 15.63s/it]"
     ]
    },
    {
     "name": "stdout",
     "output_type": "stream",
     "text": [
      "LOSS: 8.190205073356628, ACC: 0.02685546875, FP: 3.4750001430511475, MA: 12.28623104095459, OA: 5.738574504852295\n"
     ]
    },
    {
     "name": "stderr",
     "output_type": "stream",
     "text": [
      "  6%|▌         | 3/50 [00:47<12:25, 15.87s/it]"
     ]
    },
    {
     "name": "stdout",
     "output_type": "stream",
     "text": [
      "LOSS: 8.078891623020173, ACC: 0.04843750223517418, FP: 4.925390720367432, MA: 11.122949600219727, OA: 8.307324409484863\n"
     ]
    },
    {
     "name": "stderr",
     "output_type": "stream",
     "text": [
      "  8%|▊         | 4/50 [01:03<12:08, 15.83s/it]"
     ]
    },
    {
     "name": "stdout",
     "output_type": "stream",
     "text": [
      "LOSS: 7.4551433801651, ACC: 0.08837890625, FP: 3.82568359375, MA: 10.993847846984863, OA: 7.174609661102295\n"
     ]
    },
    {
     "name": "stderr",
     "output_type": "stream",
     "text": [
      " 10%|█         | 5/50 [01:19<12:03, 16.09s/it]"
     ]
    },
    {
     "name": "stdout",
     "output_type": "stream",
     "text": [
      "LOSS: 6.691835117340088, ACC: 0.17529296875, FP: 4.742285251617432, MA: 9.22324275970459, OA: 9.654296875\n"
     ]
    },
    {
     "name": "stderr",
     "output_type": "stream",
     "text": [
      " 12%|█▏        | 6/50 [01:35<11:47, 16.09s/it]"
     ]
    },
    {
     "name": "stdout",
     "output_type": "stream",
     "text": [
      "LOSS: 5.871543073654175, ACC: 0.27324220538139343, FP: 4.444043159484863, MA: 8.164941787719727, OA: 10.263964653015137\n"
     ]
    },
    {
     "name": "stderr",
     "output_type": "stream",
     "text": [
      " 14%|█▍        | 7/50 [01:51<11:32, 16.11s/it]"
     ]
    },
    {
     "name": "stdout",
     "output_type": "stream",
     "text": [
      "LOSS: 5.384763932228088, ACC: 0.34501954913139343, FP: 5.027050971984863, MA: 6.809668064117432, OA: 11.94345760345459\n"
     ]
    },
    {
     "name": "stderr",
     "output_type": "stream",
     "text": [
      " 16%|█▌        | 8/50 [02:08<11:19, 16.19s/it]"
     ]
    },
    {
     "name": "stdout",
     "output_type": "stream",
     "text": [
      "LOSS: 5.191639316082001, ACC: 0.3682617247104645, FP: 4.583691596984863, MA: 6.675683498382568, OA: 11.404589653015137\n"
     ]
    },
    {
     "name": "stderr",
     "output_type": "stream",
     "text": [
      " 18%|█▊        | 9/50 [02:23<10:57, 16.04s/it]"
     ]
    },
    {
     "name": "stdout",
     "output_type": "stream",
     "text": [
      "LOSS: 4.989289450645447, ACC: 0.4002929627895355, FP: 4.612011909484863, MA: 6.119238376617432, OA: 11.65683650970459\n"
     ]
    },
    {
     "name": "stderr",
     "output_type": "stream",
     "text": [
      " 20%|██        | 10/50 [02:39<10:37, 15.95s/it]"
     ]
    },
    {
     "name": "stdout",
     "output_type": "stream",
     "text": [
      "LOSS: 4.8132835030555725, ACC: 0.41914063692092896, FP: 4.661816596984863, MA: 5.631152629852295, OA: 11.863183975219727\n"
     ]
    },
    {
     "name": "stderr",
     "output_type": "stream",
     "text": [
      " 22%|██▏       | 11/50 [02:55<10:19, 15.88s/it]"
     ]
    },
    {
     "name": "stdout",
     "output_type": "stream",
     "text": [
      "LOSS: 4.875459432601929, ACC: 0.4149414002895355, FP: 4.610742092132568, MA: 5.494042873382568, OA: 11.5576171875\n"
     ]
    },
    {
     "name": "stderr",
     "output_type": "stream",
     "text": [
      " 24%|██▍       | 12/50 [03:11<10:06, 15.96s/it]"
     ]
    },
    {
     "name": "stdout",
     "output_type": "stream",
     "text": [
      "LOSS: 4.713110792636871, ACC: 0.43183594942092896, FP: 4.58740234375, MA: 5.201562404632568, OA: 11.55478572845459\n"
     ]
    },
    {
     "name": "stderr",
     "output_type": "stream",
     "text": [
      " 26%|██▌       | 13/50 [03:27<09:49, 15.93s/it]"
     ]
    },
    {
     "name": "stdout",
     "output_type": "stream",
     "text": [
      "LOSS: 4.700749492645263, ACC: 0.4315429627895355, FP: 4.663183689117432, MA: 4.941211223602295, OA: 11.637011528015137\n"
     ]
    },
    {
     "name": "stderr",
     "output_type": "stream",
     "text": [
      " 28%|██▊       | 14/50 [03:43<09:31, 15.88s/it]"
     ]
    },
    {
     "name": "stdout",
     "output_type": "stream",
     "text": [
      "LOSS: 4.587230551242828, ACC: 0.4505859315395355, FP: 4.381738185882568, MA: 4.704297065734863, OA: 11.265332221984863\n"
     ]
    },
    {
     "name": "stderr",
     "output_type": "stream",
     "text": [
      " 30%|███       | 15/50 [03:58<09:11, 15.76s/it]"
     ]
    },
    {
     "name": "stdout",
     "output_type": "stream",
     "text": [
      "LOSS: 4.554740685224533, ACC: 0.4449218809604645, FP: 4.580175876617432, MA: 4.433300971984863, OA: 11.461328506469727\n"
     ]
    },
    {
     "name": "stderr",
     "output_type": "stream",
     "text": [
      " 32%|███▏      | 16/50 [04:14<08:57, 15.80s/it]"
     ]
    },
    {
     "name": "stdout",
     "output_type": "stream",
     "text": [
      "LOSS: 4.630353832244873, ACC: 0.4359374940395355, FP: 4.303613185882568, MA: 4.472070217132568, OA: 11.01171875\n"
     ]
    },
    {
     "name": "stderr",
     "output_type": "stream",
     "text": [
      " 34%|███▍      | 17/50 [04:30<08:38, 15.72s/it]"
     ]
    },
    {
     "name": "stdout",
     "output_type": "stream",
     "text": [
      "LOSS: 4.577711844444275, ACC: 0.44550782442092896, FP: 4.354101657867432, MA: 4.339941501617432, OA: 11.0576171875\n"
     ]
    },
    {
     "name": "stderr",
     "output_type": "stream",
     "text": [
      " 36%|███▌      | 18/50 [04:45<08:22, 15.70s/it]"
     ]
    },
    {
     "name": "stdout",
     "output_type": "stream",
     "text": [
      "LOSS: 4.5131114482879635, ACC: 0.45361328125, FP: 4.488086223602295, MA: 4.080078125, OA: 11.256640434265137\n"
     ]
    },
    {
     "name": "stderr",
     "output_type": "stream",
     "text": [
      " 38%|███▊      | 19/50 [05:02<08:12, 15.90s/it]"
     ]
    },
    {
     "name": "stdout",
     "output_type": "stream",
     "text": [
      "LOSS: 4.32432461977005, ACC: 0.470703125, FP: 3.846972703933716, MA: 4.1669921875, OA: 10.635546684265137\n"
     ]
    },
    {
     "name": "stderr",
     "output_type": "stream",
     "text": [
      " 40%|████      | 20/50 [05:18<07:57, 15.93s/it]"
     ]
    },
    {
     "name": "stdout",
     "output_type": "stream",
     "text": [
      "LOSS: 4.3147553443908695, ACC: 0.4708007872104645, FP: 4.068749904632568, MA: 3.8646485805511475, OA: 10.947265625\n"
     ]
    },
    {
     "name": "stderr",
     "output_type": "stream",
     "text": [
      " 42%|████▏     | 21/50 [05:34<07:42, 15.94s/it]"
     ]
    },
    {
     "name": "stdout",
     "output_type": "stream",
     "text": [
      "LOSS: 4.319323050975799, ACC: 0.47089844942092896, FP: 4.111328125, MA: 3.7930665016174316, OA: 11.094629287719727\n"
     ]
    },
    {
     "name": "stderr",
     "output_type": "stream",
     "text": [
      " 44%|████▍     | 22/50 [05:49<07:23, 15.84s/it]"
     ]
    },
    {
     "name": "stdout",
     "output_type": "stream",
     "text": [
      "LOSS: 4.308204847574234, ACC: 0.47431641817092896, FP: 3.89453125, MA: 3.875195264816284, OA: 10.732226371765137\n"
     ]
    },
    {
     "name": "stderr",
     "output_type": "stream",
     "text": [
      " 46%|████▌     | 23/50 [06:05<07:03, 15.70s/it]"
     ]
    },
    {
     "name": "stdout",
     "output_type": "stream",
     "text": [
      "LOSS: 4.367187094688416, ACC: 0.4686523377895355, FP: 4.272070407867432, MA: 3.7007813453674316, OA: 11.3408203125\n"
     ]
    },
    {
     "name": "stderr",
     "output_type": "stream",
     "text": [
      " 48%|████▊     | 24/50 [06:20<06:48, 15.72s/it]"
     ]
    },
    {
     "name": "stdout",
     "output_type": "stream",
     "text": [
      "LOSS: 4.216474562883377, ACC: 0.48310548067092896, FP: 4.106738567352295, MA: 3.5819337368011475, OA: 11.211816787719727\n"
     ]
    },
    {
     "name": "stderr",
     "output_type": "stream",
     "text": [
      " 50%|█████     | 25/50 [06:36<06:34, 15.79s/it]"
     ]
    },
    {
     "name": "stdout",
     "output_type": "stream",
     "text": [
      "LOSS: 4.252878177165985, ACC: 0.4813476502895355, FP: 4.228417873382568, MA: 3.492480516433716, OA: 11.32871150970459\n"
     ]
    },
    {
     "name": "stderr",
     "output_type": "stream",
     "text": [
      " 52%|█████▏    | 26/50 [06:52<06:20, 15.84s/it]"
     ]
    },
    {
     "name": "stdout",
     "output_type": "stream",
     "text": [
      "LOSS: 4.221562844514847, ACC: 0.4830078184604645, FP: 4.05908203125, MA: 3.553417921066284, OA: 11.221972465515137\n"
     ]
    },
    {
     "name": "stderr",
     "output_type": "stream",
     "text": [
      " 54%|█████▍    | 27/50 [07:08<06:04, 15.86s/it]"
     ]
    },
    {
     "name": "stdout",
     "output_type": "stream",
     "text": [
      "LOSS: 4.2381778955459595, ACC: 0.4878906309604645, FP: 4.102832317352295, MA: 3.5125977993011475, OA: 11.314355850219727\n"
     ]
    },
    {
     "name": "stderr",
     "output_type": "stream",
     "text": [
      " 56%|█████▌    | 28/50 [07:24<05:48, 15.83s/it]"
     ]
    },
    {
     "name": "stdout",
     "output_type": "stream",
     "text": [
      "LOSS: 4.226000010967255, ACC: 0.49042969942092896, FP: 4.026172161102295, MA: 3.512988328933716, OA: 11.29248046875\n"
     ]
    },
    {
     "name": "stderr",
     "output_type": "stream",
     "text": [
      " 58%|█████▊    | 29/50 [07:39<05:30, 15.75s/it]"
     ]
    },
    {
     "name": "stdout",
     "output_type": "stream",
     "text": [
      "LOSS: 4.180812084674836, ACC: 0.49443361163139343, FP: 3.993457078933716, MA: 3.4765625, OA: 11.307909965515137\n"
     ]
    },
    {
     "name": "stderr",
     "output_type": "stream",
     "text": [
      " 60%|██████    | 30/50 [07:55<05:15, 15.76s/it]"
     ]
    },
    {
     "name": "stdout",
     "output_type": "stream",
     "text": [
      "LOSS: 4.213381725549698, ACC: 0.49189454317092896, FP: 4.040429592132568, MA: 3.470019578933716, OA: 11.37753963470459\n"
     ]
    },
    {
     "name": "stderr",
     "output_type": "stream",
     "text": [
      " 62%|██████▏   | 31/50 [08:11<05:00, 15.83s/it]"
     ]
    },
    {
     "name": "stdout",
     "output_type": "stream",
     "text": [
      "LOSS: 4.263414669036865, ACC: 0.48945313692092896, FP: 4.20458984375, MA: 3.463671922683716, OA: 11.585156440734863\n"
     ]
    },
    {
     "name": "stderr",
     "output_type": "stream",
     "text": [
      " 64%|██████▍   | 32/50 [08:27<04:45, 15.87s/it]"
     ]
    },
    {
     "name": "stdout",
     "output_type": "stream",
     "text": [
      "LOSS: 4.25976248383522, ACC: 0.49248048663139343, FP: 4.16162109375, MA: 3.422656297683716, OA: 11.565625190734863\n"
     ]
    },
    {
     "name": "stderr",
     "output_type": "stream",
     "text": [
      " 66%|██████▌   | 33/50 [08:44<04:34, 16.14s/it]"
     ]
    },
    {
     "name": "stdout",
     "output_type": "stream",
     "text": [
      "LOSS: 4.257013934850693, ACC: 0.48974609375, FP: 4.215527534484863, MA: 3.4125001430511475, OA: 11.661913871765137\n"
     ]
    },
    {
     "name": "stderr",
     "output_type": "stream",
     "text": [
      " 68%|██████▊   | 34/50 [09:00<04:17, 16.11s/it]"
     ]
    },
    {
     "name": "stdout",
     "output_type": "stream",
     "text": [
      "LOSS: 4.257445514202118, ACC: 0.49267578125, FP: 4.208301067352295, MA: 3.4068360328674316, OA: 11.623242378234863\n"
     ]
    },
    {
     "name": "stderr",
     "output_type": "stream",
     "text": [
      " 70%|███████   | 35/50 [09:16<03:59, 15.99s/it]"
     ]
    },
    {
     "name": "stdout",
     "output_type": "stream",
     "text": [
      "LOSS: 4.241709440946579, ACC: 0.49580079317092896, FP: 4.173633098602295, MA: 3.3609375953674316, OA: 11.590527534484863\n"
     ]
    },
    {
     "name": "stderr",
     "output_type": "stream",
     "text": [
      " 72%|███████▏  | 36/50 [09:31<03:40, 15.77s/it]"
     ]
    },
    {
     "name": "stdout",
     "output_type": "stream",
     "text": [
      "LOSS: 4.246704167127609, ACC: 0.49853515625, FP: 4.153613567352295, MA: 3.381542921066284, OA: 11.57431697845459\n"
     ]
    },
    {
     "name": "stderr",
     "output_type": "stream",
     "text": [
      " 74%|███████▍  | 37/50 [09:47<03:24, 15.77s/it]"
     ]
    },
    {
     "name": "stdout",
     "output_type": "stream",
     "text": [
      "LOSS: 4.266910475492478, ACC: 0.49296876788139343, FP: 4.15380859375, MA: 3.4232423305511475, OA: 11.57822322845459\n"
     ]
    },
    {
     "name": "stderr",
     "output_type": "stream",
     "text": [
      " 76%|███████▌  | 38/50 [10:02<03:07, 15.65s/it]"
     ]
    },
    {
     "name": "stdout",
     "output_type": "stream",
     "text": [
      "LOSS: 4.301922398805618, ACC: 0.49335938692092896, FP: 4.150488376617432, MA: 3.4583985805511475, OA: 11.536328315734863\n"
     ]
    },
    {
     "name": "stderr",
     "output_type": "stream",
     "text": [
      " 78%|███████▊  | 39/50 [10:18<02:51, 15.61s/it]"
     ]
    },
    {
     "name": "stdout",
     "output_type": "stream",
     "text": [
      "LOSS: 4.272210782766342, ACC: 0.49345704913139343, FP: 4.181445598602295, MA: 3.386425733566284, OA: 11.61679744720459\n"
     ]
    },
    {
     "name": "stderr",
     "output_type": "stream",
     "text": [
      " 80%|████████  | 40/50 [10:34<02:37, 15.72s/it]"
     ]
    },
    {
     "name": "stdout",
     "output_type": "stream",
     "text": [
      "LOSS: 4.276008987426758, ACC: 0.4930664002895355, FP: 4.160742282867432, MA: 3.4300782680511475, OA: 11.568554878234863\n"
     ]
    },
    {
     "name": "stderr",
     "output_type": "stream",
     "text": [
      " 82%|████████▏ | 41/50 [10:49<02:21, 15.70s/it]"
     ]
    },
    {
     "name": "stdout",
     "output_type": "stream",
     "text": [
      "LOSS: 4.288152605295181, ACC: 0.49335938692092896, FP: 4.173925876617432, MA: 3.417675733566284, OA: 11.589258193969727\n"
     ]
    },
    {
     "name": "stderr",
     "output_type": "stream",
     "text": [
      " 84%|████████▍ | 42/50 [11:06<02:07, 15.91s/it]"
     ]
    },
    {
     "name": "stdout",
     "output_type": "stream",
     "text": [
      "LOSS: 4.272332072257996, ACC: 0.4981445372104645, FP: 4.20947265625, MA: 3.3994140625, OA: 11.64794921875\n"
     ]
    },
    {
     "name": "stderr",
     "output_type": "stream",
     "text": [
      " 86%|████████▌ | 43/50 [11:21<01:50, 15.74s/it]"
     ]
    },
    {
     "name": "stdout",
     "output_type": "stream",
     "text": [
      "LOSS: 4.290291661024094, ACC: 0.49462890625, FP: 4.147070407867432, MA: 3.4325196743011475, OA: 11.531445503234863\n"
     ]
    },
    {
     "name": "stderr",
     "output_type": "stream",
     "text": [
      " 88%|████████▊ | 44/50 [11:36<01:33, 15.65s/it]"
     ]
    },
    {
     "name": "stdout",
     "output_type": "stream",
     "text": [
      "LOSS: 4.2811939179897305, ACC: 0.4959960877895355, FP: 4.170703411102295, MA: 3.4150390625, OA: 11.577441215515137\n"
     ]
    },
    {
     "name": "stderr",
     "output_type": "stream",
     "text": [
      " 90%|█████████ | 45/50 [11:54<01:20, 16.08s/it]"
     ]
    },
    {
     "name": "stdout",
     "output_type": "stream",
     "text": [
      "LOSS: 4.273339408636093, ACC: 0.4947265684604645, FP: 4.155957221984863, MA: 3.4090821743011475, OA: 11.570116996765137\n"
     ]
    },
    {
     "name": "stderr",
     "output_type": "stream",
     "text": [
      " 92%|█████████▏| 46/50 [12:10<01:04, 16.18s/it]"
     ]
    },
    {
     "name": "stdout",
     "output_type": "stream",
     "text": [
      "LOSS: 4.27292760014534, ACC: 0.49687501788139343, FP: 4.139550685882568, MA: 3.4195313453674316, OA: 11.548144340515137\n"
     ]
    },
    {
     "name": "stderr",
     "output_type": "stream",
     "text": [
      " 94%|█████████▍| 47/50 [12:26<00:48, 16.02s/it]"
     ]
    },
    {
     "name": "stdout",
     "output_type": "stream",
     "text": [
      "LOSS: 4.2805283784866335, ACC: 0.4971679747104645, FP: 4.138867378234863, MA: 3.4263672828674316, OA: 11.54062557220459\n"
     ]
    },
    {
     "name": "stderr",
     "output_type": "stream",
     "text": [
      " 96%|█████████▌| 48/50 [12:42<00:32, 16.05s/it]"
     ]
    },
    {
     "name": "stdout",
     "output_type": "stream",
     "text": [
      "LOSS: 4.295258915424347, ACC: 0.49287110567092896, FP: 4.099218845367432, MA: 3.4544923305511475, OA: 11.477734565734863\n"
     ]
    },
    {
     "name": "stderr",
     "output_type": "stream",
     "text": [
      " 98%|█████████▊| 49/50 [12:57<00:15, 15.94s/it]"
     ]
    },
    {
     "name": "stdout",
     "output_type": "stream",
     "text": [
      "LOSS: 4.274431455135345, ACC: 0.49462890625, FP: 4.175879001617432, MA: 3.3988282680511475, OA: 11.605175971984863\n"
     ]
    },
    {
     "name": "stderr",
     "output_type": "stream",
     "text": [
      "100%|██████████| 50/50 [13:13<00:00, 15.88s/it]"
     ]
    },
    {
     "name": "stdout",
     "output_type": "stream",
     "text": [
      "LOSS: 4.279475277662277, ACC: 0.4950195252895355, FP: 4.172265529632568, MA: 3.40625, OA: 11.603906631469727\n",
      "{'epoch': 35, 'train_loss': 1.744486412428834, 'val_loss': 4.246704167127609, 'val_acc': 0.49853515625, 'fp': 4.153613567352295, 'ma': 3.381542921066284, 'oa': 11.57431697845459}\n"
     ]
    },
    {
     "name": "stderr",
     "output_type": "stream",
     "text": [
      "\n"
     ]
    }
   ],
   "source": [
    "from torchmetrics import Accuracy\n",
    "import sys, os\n",
    "sys.path.insert(0, \"/\".join(os.path.abspath('').split(\"/\")[:-1]) + \"/models\")\n",
    "print(\"/\".join(os.path.abspath('').split(\"/\")[:-1]) + \"/models\")\n",
    "from ResnetAutoPredicates import ResExtr\n",
    "\n",
    "device = torch.device('cuda' if torch.cuda.is_available() else 'cpu')\n",
    "print(f\"Device: {device}\")\n",
    "\n",
    "NUM_FEATURES = 48\n",
    "NUM_CLASSES = 200\n",
    "EPOCHS = 50\n",
    "accuracy = Accuracy(task=\"multiclass\", num_classes=NUM_CLASSES, top_k=1).to(device)\n",
    "\n",
    "FT_WEIGHT = 0.5\n",
    "\n",
    "model = ResExtr(NUM_FEATURES, NUM_CLASSES, pretrained=True).to(device)\n",
    "\n",
    "optimizer = torch.optim.Adam(model.parameters(), lr=2e-4, weight_decay=1e-5)\n",
    "scheduler = torch.optim.lr_scheduler.OneCycleLR(optimizer, 5e-4, epochs=EPOCHS, steps_per_epoch=len(training_loader))\n",
    "\n",
    "best_stats = {\n",
    "    \"epoch\": 0,\n",
    "    \"train_loss\": 0,\n",
    "    \"val_loss\": 0,\n",
    "    \"val_acc\": 0,\n",
    "    \"fp\": 0,\n",
    "    \"ma\": 0,\n",
    "    \"oa\": 0\n",
    "}\n",
    "\n",
    "from tqdm import tqdm\n",
    "for epoch in tqdm(range(EPOCHS)):\n",
    "    # Make sure gradient tracking is on, and do a pass over the data\n",
    "    model.train(True)\n",
    "    avg_loss = train_one_epoch()\n",
    "\n",
    "    running_vloss = 0.0\n",
    "    # Set the model to evaluation mode, disabling dropout and using population\n",
    "    # statistics for batch normalization.\n",
    "    model.eval()\n",
    "    running_acc = 0.0\n",
    "    running_false_positives = 0.0\n",
    "    running_missing_attr = 0.0\n",
    "    running_out_attributes= 0.0\n",
    "\n",
    "    # Disable gradient computation and reduce memory consumption.\n",
    "    with torch.no_grad():\n",
    "        for i, vdata in enumerate(validation_loader):\n",
    "            vinputs, vlabels = vdata[\"images\"], vdata[\"labels\"]\n",
    "            vinputs = vinputs.to(device)\n",
    "            vlabels = vlabels.to(device)\n",
    "            voutputs, vcommit_loss, predicate_matrix = model(vinputs)\n",
    "            vloss = loss_fn(voutputs, vlabels, predicate_matrix) + vcommit_loss\n",
    "            running_vloss += vloss.item()\n",
    "            voutputs = voutputs.view(-1, 1, NUM_FEATURES)\n",
    "            ANDed = voutputs * predicate_matrix\n",
    "            diff = ANDed - voutputs\n",
    "            running_acc += accuracy(diff.sum(dim=2), vlabels)\n",
    "            voutputs = voutputs.view(-1, NUM_FEATURES)\n",
    "            running_false_positives += ((predicate_matrix[vlabels] - voutputs) == -1).sum() / voutputs.shape[0]\n",
    "            running_missing_attr += ((voutputs - predicate_matrix[vlabels]) == -1).sum() / voutputs.shape[0]\n",
    "            running_out_attributes += voutputs.sum() / voutputs.shape[0]\n",
    "\n",
    "    avg_vloss = running_vloss / (i + 1)\n",
    "    avg_acc = running_acc / (i + 1)\n",
    "    avg_fp = running_false_positives / (i + 1)\n",
    "    avg_ma = running_missing_attr / (i + 1)\n",
    "    avg_oa = running_out_attributes / (i + 1)\n",
    "    print(f\"LOSS: {avg_vloss}, ACC: {avg_acc}, FP: {avg_fp}, MA: {avg_ma}, OA: {avg_oa}\")\n",
    "    #print(model.bin_quantize._codebook.embed)\n",
    "    \n",
    "    with open(\"TINRes18AutoPredData.csv\", \"a\") as f:\n",
    "        f.write(f\"{epoch}, {avg_loss}, {avg_vloss}, {avg_acc}, {avg_fp}, {avg_ma}, {avg_oa}\\n\")\n",
    "\n",
    "    if best_stats[\"val_acc\"] < avg_acc:\n",
    "        best_stats[\"epoch\"] = epoch\n",
    "        best_stats[\"train_loss\"] = avg_loss\n",
    "        best_stats[\"val_loss\"] = avg_vloss\n",
    "        best_stats[\"val_acc\"] = avg_acc.item()\n",
    "        best_stats[\"fp\"] = avg_fp.item()\n",
    "        best_stats[\"ma\"] = avg_ma.item()\n",
    "        best_stats[\"oa\"] = avg_oa.item()\n",
    "\n",
    "\n",
    "print(best_stats)"
   ]
  },
  {
   "cell_type": "markdown",
   "id": "e8f2878d-7a22-4695-8aac-044edeaffe33",
   "metadata": {},
   "source": [
    "# Resnet Baseline"
   ]
  },
  {
   "cell_type": "code",
   "execution_count": 7,
   "id": "471e85ff-0482-43b3-a266-d08d47200412",
   "metadata": {
    "execution": {
     "iopub.execute_input": "2023-09-01T20:04:28.947006Z",
     "iopub.status.busy": "2023-09-01T20:04:28.946725Z",
     "iopub.status.idle": "2023-09-01T20:04:28.952213Z",
     "shell.execute_reply": "2023-09-01T20:04:28.951328Z",
     "shell.execute_reply.started": "2023-09-01T20:04:28.946983Z"
    }
   },
   "outputs": [],
   "source": [
    "def train_one_epoch_baseline():\n",
    "    running_loss = 0.\n",
    "\n",
    "    # Here, we use enumerate(training_loader) instead of\n",
    "    # iter(training_loader) so that we can track the batch\n",
    "    # index and do some intra-epoch reporting\n",
    "    for i, data in enumerate(training_loader):\n",
    "        # Every data instance is an input + label pair\n",
    "        inputs, labels = data[\"images\"], data[\"labels\"]\n",
    "        inputs = inputs.to(device)\n",
    "        labels = labels.to(device)\n",
    "\n",
    "        # Zero your gradients for every batch!\n",
    "        optimizer.zero_grad()\n",
    "\n",
    "        # Make predictions for this batch\n",
    "        outputs = model(inputs)\n",
    "\n",
    "        # Compute the loss and its gradients\n",
    "        loss = loss_fn_baseline(outputs, labels)\n",
    "        loss.backward()\n",
    "\n",
    "        # Adjust learning weights\n",
    "        optimizer.step()\n",
    "\n",
    "        # Gather data and report\n",
    "        running_loss += loss.item()\n",
    "\n",
    "    return running_loss / (i+1)"
   ]
  },
  {
   "cell_type": "code",
   "execution_count": 13,
   "id": "93ce98db-f75b-49df-8b19-913de05ca871",
   "metadata": {
    "execution": {
     "iopub.execute_input": "2023-09-01T20:31:28.708988Z",
     "iopub.status.busy": "2023-09-01T20:31:28.708703Z",
     "iopub.status.idle": "2023-09-01T20:35:17.872894Z",
     "shell.execute_reply": "2023-09-01T20:35:17.872159Z",
     "shell.execute_reply.started": "2023-09-01T20:31:28.708967Z"
    }
   },
   "outputs": [
    {
     "name": "stdout",
     "output_type": "stream",
     "text": [
      "Device: cuda\n"
     ]
    },
    {
     "name": "stderr",
     "output_type": "stream",
     "text": [
      "  7%|▋         | 1/15 [00:15<03:32, 15.20s/it]"
     ]
    },
    {
     "name": "stdout",
     "output_type": "stream",
     "text": [
      "LOSS: 2.7538333177566527, ACC: 0.3666932284832001\n"
     ]
    },
    {
     "name": "stderr",
     "output_type": "stream",
     "text": [
      " 13%|█▎        | 2/15 [00:30<03:16, 15.14s/it]"
     ]
    },
    {
     "name": "stdout",
     "output_type": "stream",
     "text": [
      "LOSS: 2.268373465538025, ACC: 0.45415934920310974\n"
     ]
    },
    {
     "name": "stderr",
     "output_type": "stream",
     "text": [
      " 20%|██        | 3/15 [00:45<03:02, 15.21s/it]"
     ]
    },
    {
     "name": "stdout",
     "output_type": "stream",
     "text": [
      "LOSS: 2.1400376319885255, ACC: 0.4812440574169159\n"
     ]
    },
    {
     "name": "stderr",
     "output_type": "stream",
     "text": [
      " 27%|██▋       | 4/15 [01:01<02:48, 15.34s/it]"
     ]
    },
    {
     "name": "stdout",
     "output_type": "stream",
     "text": [
      "LOSS: 1.9924053430557251, ACC: 0.5112384557723999\n"
     ]
    },
    {
     "name": "stderr",
     "output_type": "stream",
     "text": [
      " 33%|███▎      | 5/15 [01:16<02:33, 15.37s/it]"
     ]
    },
    {
     "name": "stdout",
     "output_type": "stream",
     "text": [
      "LOSS: 1.9608011841773987, ACC: 0.5201749801635742\n"
     ]
    },
    {
     "name": "stderr",
     "output_type": "stream",
     "text": [
      " 40%|████      | 6/15 [01:31<02:18, 15.38s/it]"
     ]
    },
    {
     "name": "stdout",
     "output_type": "stream",
     "text": [
      "LOSS: 1.9408017992973328, ACC: 0.5298649072647095\n"
     ]
    },
    {
     "name": "stderr",
     "output_type": "stream",
     "text": [
      " 47%|████▋     | 7/15 [01:47<02:04, 15.54s/it]"
     ]
    },
    {
     "name": "stdout",
     "output_type": "stream",
     "text": [
      "LOSS: 1.9406044483184814, ACC: 0.5277164578437805\n"
     ]
    },
    {
     "name": "stderr",
     "output_type": "stream",
     "text": [
      " 53%|█████▎    | 8/15 [02:02<01:47, 15.40s/it]"
     ]
    },
    {
     "name": "stdout",
     "output_type": "stream",
     "text": [
      "LOSS: 1.9414733171463012, ACC: 0.5363759398460388\n"
     ]
    },
    {
     "name": "stderr",
     "output_type": "stream",
     "text": [
      " 60%|██████    | 9/15 [02:18<01:32, 15.38s/it]"
     ]
    },
    {
     "name": "stdout",
     "output_type": "stream",
     "text": [
      "LOSS: 1.9837289929389954, ACC: 0.5289102792739868\n"
     ]
    },
    {
     "name": "stderr",
     "output_type": "stream",
     "text": [
      " 67%|██████▋   | 10/15 [02:33<01:16, 15.33s/it]"
     ]
    },
    {
     "name": "stdout",
     "output_type": "stream",
     "text": [
      "LOSS: 2.0138878226280212, ACC: 0.5291215181350708\n"
     ]
    },
    {
     "name": "stderr",
     "output_type": "stream",
     "text": [
      " 73%|███████▎  | 11/15 [02:48<01:01, 15.31s/it]"
     ]
    },
    {
     "name": "stdout",
     "output_type": "stream",
     "text": [
      "LOSS: 2.0528515219688415, ACC: 0.5269291996955872\n"
     ]
    },
    {
     "name": "stderr",
     "output_type": "stream",
     "text": [
      " 80%|████████  | 12/15 [03:03<00:45, 15.20s/it]"
     ]
    },
    {
     "name": "stdout",
     "output_type": "stream",
     "text": [
      "LOSS: 2.074764096736908, ACC: 0.5255321860313416\n"
     ]
    },
    {
     "name": "stderr",
     "output_type": "stream",
     "text": [
      " 87%|████████▋ | 13/15 [03:18<00:30, 15.17s/it]"
     ]
    },
    {
     "name": "stdout",
     "output_type": "stream",
     "text": [
      "LOSS: 2.1348794221878054, ACC: 0.5197624564170837\n"
     ]
    },
    {
     "name": "stderr",
     "output_type": "stream",
     "text": [
      " 93%|█████████▎| 14/15 [03:33<00:15, 15.18s/it]"
     ]
    },
    {
     "name": "stdout",
     "output_type": "stream",
     "text": [
      "LOSS: 2.1823304891586304, ACC: 0.523909866809845\n"
     ]
    },
    {
     "name": "stderr",
     "output_type": "stream",
     "text": [
      "100%|██████████| 15/15 [03:48<00:00, 15.26s/it]"
     ]
    },
    {
     "name": "stdout",
     "output_type": "stream",
     "text": [
      "LOSS: 2.1891473531723022, ACC: 0.528218686580658\n",
      "{'epoch': 7, 'train_loss': 1.1221286131411183, 'val_loss': 1.9414733171463012, 'val_acc': 0.5363759398460388}\n"
     ]
    },
    {
     "name": "stderr",
     "output_type": "stream",
     "text": [
      "\n"
     ]
    }
   ],
   "source": [
    "from torchmetrics import Accuracy\n",
    "device = torch.device('cuda' if torch.cuda.is_available() else 'cpu')\n",
    "print(f\"Device: {device}\")\n",
    "\n",
    "NUM_CLASSES = 200\n",
    "EPOCHS = 15\n",
    "accuracy = Accuracy(task=\"multiclass\", num_classes=NUM_CLASSES, top_k=1).to(device)\n",
    "\n",
    "POS_FT_WEIGHT = 0\n",
    "FT_WEIGHT = 0\n",
    "\n",
    "from torchvision.models import resnet18, ResNet18_Weights\n",
    "model = resnet18(weights=ResNet18_Weights.DEFAULT)\n",
    "model.fc = nn.Linear(512, NUM_CLASSES)\n",
    "\n",
    "model = model.to(device)\n",
    "\n",
    "loss_fn_baseline = nn.CrossEntropyLoss()\n",
    "optimizer = torch.optim.Adam(model.parameters(), lr=2e-4, weight_decay=1e-5)\n",
    "\n",
    "best_stats = {\n",
    "    \"epoch\": 0,\n",
    "    \"train_loss\": 0,\n",
    "    \"val_loss\": 0,\n",
    "    \"val_acc\": 0,\n",
    "}\n",
    "\n",
    "from tqdm import tqdm\n",
    "for epoch in tqdm(range(EPOCHS)):\n",
    "    # Make sure gradient tracking is on, and do a pass over the data\n",
    "    model.train(True)\n",
    "    avg_loss = train_one_epoch_baseline()\n",
    "\n",
    "    running_vloss = 0.0\n",
    "    # Set the model to evaluation mode, disabling dropout and using population\n",
    "    # statistics for batch normalization.\n",
    "    model.eval()\n",
    "    running_acc = 0.0\n",
    "    running_false_positives = 0.0\n",
    "\n",
    "    # Disable gradient computation and reduce memory consumption.\n",
    "    with torch.no_grad():\n",
    "        for i, vdata in enumerate(validation_loader):\n",
    "            vinputs, vlabels = vdata[\"images\"], vdata[\"labels\"]\n",
    "            vinputs = vinputs.to(device)\n",
    "            vlabels = vlabels.to(device)\n",
    "            voutputs = model(vinputs)\n",
    "            vloss = loss_fn_baseline(voutputs, vlabels)\n",
    "            running_vloss += vloss.item()\n",
    "            running_acc += accuracy(voutputs, vlabels)\n",
    "\n",
    "    avg_vloss = running_vloss / (i + 1)\n",
    "    avg_acc = running_acc / (i + 1)\n",
    "    print(f\"LOSS: {avg_vloss}, ACC: {avg_acc}\")\n",
    "\n",
    "    if best_stats[\"val_acc\"] < avg_acc:\n",
    "        best_stats[\"epoch\"] = epoch\n",
    "        best_stats[\"train_loss\"] = avg_loss\n",
    "        best_stats[\"val_loss\"] = avg_vloss\n",
    "        best_stats[\"val_acc\"] = avg_acc.item()\n",
    "\n",
    "print(best_stats)"
   ]
  },
  {
   "cell_type": "markdown",
   "id": "ae77e16c-351e-4f3c-a917-2865ea53e95b",
   "metadata": {},
   "source": [
    "# Optuna"
   ]
  },
  {
   "cell_type": "code",
   "execution_count": 3,
   "id": "c6d56a69-72e8-4139-9c32-ffbba2cbbc8b",
   "metadata": {
    "execution": {
     "iopub.execute_input": "2023-10-09T10:03:17.457127Z",
     "iopub.status.busy": "2023-10-09T10:03:17.456829Z",
     "iopub.status.idle": "2023-10-09T10:03:18.451185Z",
     "shell.execute_reply": "2023-10-09T10:03:18.449993Z",
     "shell.execute_reply.started": "2023-10-09T10:03:17.457104Z"
    }
   },
   "outputs": [
    {
     "name": "stdout",
     "output_type": "stream",
     "text": [
      "/notebooks/Concept_ZSL/src/models\n"
     ]
    }
   ],
   "source": [
    "import torch.nn as nn\n",
    "\n",
    "eps = 1e-10\n",
    "def loss_fn_optuna(out, labels, predicate_matrix, NUM_FEATURES, FT_WEIGHT):\n",
    "    out = out.view(-1, 1, NUM_FEATURES) # out is a batch of 1D binary vectors\n",
    "    ANDed = out * predicate_matrix # AND operation\n",
    "    diff = ANDed - out # Difference of ANDed and out => if equal, then out is a subset of its class' predicates\n",
    "\n",
    "    entr_loss = nn.CrossEntropyLoss()\n",
    "    loss_cl = entr_loss(diff.sum(dim=2), labels) # Is \"out\" a subset of its class' predicates?\n",
    "\n",
    "    batch_size = out.shape[0]\n",
    "\n",
    "    out = out.view(-1, NUM_FEATURES)\n",
    "    diff_square = (out - predicate_matrix[labels]).pow(2)\n",
    "    \n",
    "    false_positives = (out - predicate_matrix[labels] + diff_square).sum() / batch_size\n",
    "    missing_attr = (predicate_matrix[labels] - out + diff_square).sum() / batch_size\n",
    "    \n",
    "    loss_ft = (1 + false_positives + missing_attr)\n",
    "    loss_ft *= loss_cl.item()/(loss_ft.item() + eps)\n",
    "    \n",
    "    return loss_cl + loss_ft * FT_WEIGHT\n",
    "\n",
    "from torchmetrics import Accuracy\n",
    "def train_one_epoch_optuna(model, optimizer, scheduler, NUM_FEATURES, FT_WEIGHT):\n",
    "    running_loss = 0.\n",
    "\n",
    "    # Here, we use enumerate(training_loader) instead of\n",
    "    # iter(training_loader) so that we can track the batch\n",
    "    # index and do some intra-epoch reporting\n",
    "    for i, data in enumerate(training_loader):\n",
    "        # Every data instance is an input + label pair\n",
    "        inputs, labels = data[\"images\"], data[\"labels\"]\n",
    "        inputs = inputs.to(device)\n",
    "        labels = labels.to(device)\n",
    "\n",
    "        # Zero your gradients for every batch!\n",
    "        optimizer.zero_grad()\n",
    "\n",
    "        # Make predictions for this batch\n",
    "        outputs, commit_loss, predicate_matrix = model(inputs)\n",
    "\n",
    "        # Compute the loss and its gradients\n",
    "        loss = loss_fn_optuna(outputs, labels, predicate_matrix, NUM_FEATURES, FT_WEIGHT) + commit_loss\n",
    "        loss.backward()\n",
    "\n",
    "        # Adjust learning weights\n",
    "        optimizer.step()\n",
    "        \n",
    "        scheduler.step()\n",
    "\n",
    "        # Gather data and report\n",
    "        running_loss += loss.item()\n",
    "\n",
    "    return running_loss / (i+1)\n",
    "\n",
    "from tqdm import tqdm\n",
    "from torch import optim\n",
    "\n",
    "import sys, os\n",
    "sys.path.insert(0, \"/\".join(os.path.abspath('').split(\"/\")[:-1]) + \"/models\")\n",
    "print(\"/\".join(os.path.abspath('').split(\"/\")[:-1]) + \"/models\")\n",
    "from ResnetAutoPredicates import ResExtr\n",
    "\n",
    "def objective(trial):\n",
    "    global trial_num\n",
    "    trial_num += 1\n",
    "    print(f\"Starting trial {trial_num}\")\n",
    "    NUM_FEATURES = trial.suggest_int(\"num_features\", 4, 16)\n",
    "    FT_WEIGHT = trial.suggest_float(\"ft_weight\", 0, 1)\n",
    "    # Generate the model.\n",
    "    model = ResExtr(NUM_FEATURES*8, NUM_CLASSES, pretrained=True).to(device)\n",
    "\n",
    "    EPOCHS = 50\n",
    "\n",
    "    # Generate the optimizers.\n",
    "    lr = trial.suggest_float(\"lr\", 1e-5, 1e-3, log=True)\n",
    "    max_lr = trial.suggest_float(\"max_lr\", 1e-4, 4e-3, log=True)\n",
    "    \n",
    "    if lr > max_lr:\n",
    "        raise optuna.TrialPruned()\n",
    "    \n",
    "    optimizer = optim.Adam(model.parameters(), lr=lr)\n",
    "    scheduler = torch.optim.lr_scheduler.OneCycleLR(optimizer, max_lr, epochs=EPOCHS, steps_per_epoch=len(training_loader))\n",
    "\n",
    "    best_acc = 0.0\n",
    "\n",
    "    for epoch in tqdm(range(EPOCHS)):\n",
    "        # Make sure gradient tracking is on, and do a pass over the data\n",
    "        model.train(True)\n",
    "        _ = train_one_epoch_optuna(model, optimizer, scheduler, NUM_FEATURES*8, FT_WEIGHT)\n",
    "\n",
    "        model.eval()\n",
    "        running_acc = 0.0\n",
    "\n",
    "        # Disable gradient computation and reduce memory consumption.\n",
    "        with torch.no_grad():\n",
    "            for i, vdata in enumerate(validation_loader):\n",
    "                vinputs, vlabels = vdata[\"images\"], vdata[\"labels\"]\n",
    "                vinputs = vinputs.to(device)\n",
    "                vlabels = vlabels.to(device)\n",
    "                voutputs, _, predicate_matrix = model(vinputs)\n",
    "                voutputs = voutputs.view(-1, 1, NUM_FEATURES*8)\n",
    "                ANDed = voutputs * predicate_matrix\n",
    "                diff = ANDed - voutputs\n",
    "                running_acc += accuracy(diff.sum(dim=2), vlabels)\n",
    "\n",
    "        avg_acc = running_acc / (i + 1)\n",
    "\n",
    "        if avg_acc > best_acc:\n",
    "            best_acc = avg_acc\n",
    "\n",
    "        if epoch == 30 and best_acc < 0.3:\n",
    "            raise optuna.TrialPruned()\n",
    "        elif epoch == 15 and best_acc < 0.1:\n",
    "            raise optuna.TrialPruned()\n",
    "    \n",
    "    return best_acc"
   ]
  },
  {
   "cell_type": "code",
   "execution_count": null,
   "id": "39892819-1942-425a-8d2e-d3dc8ceca6a5",
   "metadata": {
    "execution": {
     "iopub.execute_input": "2023-10-09T10:03:33.237298Z",
     "iopub.status.busy": "2023-10-09T10:03:33.236521Z"
    }
   },
   "outputs": [
    {
     "name": "stdout",
     "output_type": "stream",
     "text": [
      "Device: cuda\n"
     ]
    },
    {
     "name": "stderr",
     "output_type": "stream",
     "text": [
      "[I 2023-10-09 10:03:35,516] Using an existing study with name 'TIN-ResNet18-AutoPred' instead of creating a new one.\n"
     ]
    },
    {
     "name": "stdout",
     "output_type": "stream",
     "text": [
      "Starting trial 0\n"
     ]
    },
    {
     "name": "stderr",
     "output_type": "stream",
     "text": [
      "Downloading: \"https://download.pytorch.org/models/resnet18-f37072fd.pth\" to /root/.cache/torch/hub/checkpoints/resnet18-f37072fd.pth\n",
      "100%|██████████| 44.7M/44.7M [00:00<00:00, 255MB/s]\n",
      "100%|██████████| 50/50 [13:15<00:00, 15.92s/it]\n",
      "[I 2023-10-09 10:16:52,492] Trial 134 finished with value: 0.508007824420929 and parameters: {'num_features': 11, 'ft_weight': 0.52094269759797, 'lr': 1.0017170923451517e-05, 'max_lr': 0.0004997788710074081}. Best is trial 32 with value: 0.5235351920127869.\n"
     ]
    },
    {
     "name": "stdout",
     "output_type": "stream",
     "text": [
      "Starting trial 1\n"
     ]
    },
    {
     "name": "stderr",
     "output_type": "stream",
     "text": [
      "100%|██████████| 50/50 [13:01<00:00, 15.62s/it]\n",
      "[I 2023-10-09 10:29:54,228] Trial 135 finished with value: 0.512011706829071 and parameters: {'num_features': 9, 'ft_weight': 0.4918199991960398, 'lr': 1.1914706449785521e-05, 'max_lr': 0.000354892605686437}. Best is trial 32 with value: 0.5235351920127869.\n"
     ]
    },
    {
     "name": "stdout",
     "output_type": "stream",
     "text": [
      "Starting trial 2\n"
     ]
    },
    {
     "name": "stderr",
     "output_type": "stream",
     "text": [
      "100%|██████████| 50/50 [12:45<00:00, 15.32s/it]\n",
      "[I 2023-10-09 10:42:40,485] Trial 136 finished with value: 0.5064453482627869 and parameters: {'num_features': 9, 'ft_weight': 0.5406689145403181, 'lr': 1.3356989015631941e-05, 'max_lr': 0.0003168264428963777}. Best is trial 32 with value: 0.5235351920127869.\n"
     ]
    },
    {
     "name": "stdout",
     "output_type": "stream",
     "text": [
      "Starting trial 3\n"
     ]
    },
    {
     "name": "stderr",
     "output_type": "stream",
     "text": [
      "100%|██████████| 50/50 [13:05<00:00, 15.72s/it]\n",
      "[I 2023-10-09 10:55:46,716] Trial 137 finished with value: 0.5146484375 and parameters: {'num_features': 14, 'ft_weight': 0.4630174432834556, 'lr': 1.09586677353307e-05, 'max_lr': 0.0004477327149481473}. Best is trial 32 with value: 0.5235351920127869.\n"
     ]
    },
    {
     "name": "stdout",
     "output_type": "stream",
     "text": [
      "Starting trial 4\n"
     ]
    },
    {
     "name": "stderr",
     "output_type": "stream",
     "text": [
      "100%|██████████| 50/50 [13:06<00:00, 15.74s/it]\n",
      "[I 2023-10-09 11:08:54,366] Trial 138 finished with value: 0.5029296875 and parameters: {'num_features': 8, 'ft_weight': 0.5268294439754077, 'lr': 1.4954940285625902e-05, 'max_lr': 0.00035089089513476804}. Best is trial 32 with value: 0.5235351920127869.\n"
     ]
    },
    {
     "name": "stdout",
     "output_type": "stream",
     "text": [
      "Starting trial 5\n"
     ]
    },
    {
     "name": "stderr",
     "output_type": "stream",
     "text": [
      "100%|██████████| 50/50 [13:48<00:00, 16.58s/it]\n",
      "[I 2023-10-09 11:22:43,747] Trial 139 finished with value: 0.5088867545127869 and parameters: {'num_features': 10, 'ft_weight': 0.496299707598186, 'lr': 1.2616341489098811e-05, 'max_lr': 0.0004067613027165046}. Best is trial 32 with value: 0.5235351920127869.\n"
     ]
    },
    {
     "name": "stdout",
     "output_type": "stream",
     "text": [
      "Starting trial 6\n"
     ]
    },
    {
     "name": "stderr",
     "output_type": "stream",
     "text": [
      " 20%|██        | 10/50 [02:46<11:02, 16.57s/it]"
     ]
    }
   ],
   "source": [
    "import optuna\n",
    "\n",
    "device = torch.device('cuda' if torch.cuda.is_available() else 'cpu')\n",
    "print(f\"Device: {device}\")\n",
    "\n",
    "NUM_CLASSES = 200\n",
    "accuracy = Accuracy(task=\"multiclass\", num_classes=NUM_CLASSES, top_k=1).to(device)\n",
    "\n",
    "trial_num = -1\n",
    "\n",
    "study = optuna.create_study(direction=\"maximize\", study_name='TIN-ResNet18-AutoPred', load_if_exists=True, storage='sqlite:///Optuna.db')\n",
    "study.optimize(objective, n_trials=100)\n",
    "\n",
    "print(\"Best trial:\")\n",
    "trial = study.best_trial\n",
    "\n",
    "print(\"  Value: \", trial.value)\n",
    "\n",
    "print(\"  Params: \")\n",
    "for key, value in trial.params.items():\n",
    "    if key == \"num_features\":\n",
    "        print(\"    {}: {}\".format(key, value*8))\n",
    "    else:\n",
    "        print(\"    {}: {}\".format(key, value))"
   ]
  }
 ],
 "metadata": {
  "kernelspec": {
   "display_name": "Python 3 (ipykernel)",
   "language": "python",
   "name": "python3"
  },
  "language_info": {
   "codemirror_mode": {
    "name": "ipython",
    "version": 3
   },
   "file_extension": ".py",
   "mimetype": "text/x-python",
   "name": "python",
   "nbconvert_exporter": "python",
   "pygments_lexer": "ipython3",
   "version": "3.9.16"
  }
 },
 "nbformat": 4,
 "nbformat_minor": 5
}
